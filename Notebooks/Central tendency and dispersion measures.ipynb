{
 "cells": [
  {
   "cell_type": "markdown",
   "metadata": {},
   "source": [
    "# Definition of Statistical Measures – Central Tendency and Spread\n",
    "### Dr. Tirthajyoti Sarkar, Fremont, CA 94536\n",
    "---\n",
    "This notebook discusses fundamentals concepts of descriptive statistics such as central tendency and dispersion (spread) measures - mean/median/mode and variance. We show how one can compute such descriptive statistics using NumPy functions.\n",
    "\n",
    "### Central tendency\n",
    "A measure of central tendency is a single value that attempts to describe a set of data by identifying the central position within that set of data. They are also categorized as summary statistics:\n",
    "\n",
    "* **Mean**: Mean is the sum of all values divided by the total number of values.\n",
    "\n",
    "$$ \\mu = \\frac{\\sum{n_i}}{N} \\\\ \\text{where } N = \\sum{i} \\text{ : total number of observations}$$\n",
    "\n",
    "* **Median**: The median is the middle value. It is the value that splits the dataset in half. To find the median, order your data from smallest to largest, and then find the data point that has an equal amount of values above it and below it.\n",
    "* **Mode**: The mode is the value that occurs the most frequently in your dataset. On a bar chart, the mode is the highest bar.\n",
    "\n",
    "Generally, the mean is a better measure to use for symmetric data and median is a better measure for data with a skewed (left or right heavy) distribution. For categorical data, you have to use the mode.\n",
    "\n",
    "### Spread\n",
    "The spread of the data is a measure of by how much the values in the dataset are likely to differ from the mean of the values. If all the values are close together then the spread is low; on the other hand, if some or all of the values differ by a large\n",
    "amount from the mean (and each other), then there is a large spread in the data.\n",
    "\n",
    "* **Variance**: This is the most common measure of spread. Variance is the average of the squares of the deviations from the mean. Squaring the deviations ensures that negative and positive deviations do not cancel each other out.\n",
    "\n",
    "$$V = \\frac{\\sum{(n_i-\\mu)^2}}{N}$$\n",
    "\n",
    "* **Standard Deviation**: Because variance is produced by squaring the distance from the mean, its unit does not match that of the original data. Standard deviation is a mathematical trick to bring back the parity. It is the positive square root of the variance.\n",
    "\n",
    "$$\\sigma = \\sqrt{\\frac{\\sum{(n_i-\\mu)^2}}{N}}$$\n",
    "\n",
    "> **NOTE**: When we later build regression models, we will revisit these definitions in the conext of statistical estimation. There, the sample variance will be given by a slightly different formula (the denominator will change),\n",
    "\n",
    "$$V = \\frac{\\sum{(n_i-\\mu)^2}}{N-2}$$"
   ]
  },
  {
   "cell_type": "markdown",
   "metadata": {},
   "source": [
    "## Let's measure statistical properties of an array of numbers"
   ]
  },
  {
   "cell_type": "markdown",
   "metadata": {},
   "source": [
    "### Somewhat naive way to do it - we can simply write a 'for' loop, add the numbers, and divide by the length of the array"
   ]
  },
  {
   "cell_type": "code",
   "execution_count": 37,
   "metadata": {},
   "outputs": [],
   "source": [
    "array = [3,4,4,7,5,6,5.5,8,5,6.5,9,7.5,6]"
   ]
  },
  {
   "cell_type": "code",
   "execution_count": 38,
   "metadata": {},
   "outputs": [
    {
     "name": "stdout",
     "output_type": "stream",
     "text": [
      "Mean:  5.884615384615385\n"
     ]
    }
   ],
   "source": [
    "sum = 0\n",
    "for num in array:\n",
    "    sum+=num\n",
    "mean = sum/len(array)\n",
    "print(\"Mean: \",mean)"
   ]
  },
  {
   "cell_type": "code",
   "execution_count": 39,
   "metadata": {},
   "outputs": [],
   "source": [
    "from time import time"
   ]
  },
  {
   "cell_type": "code",
   "execution_count": 44,
   "metadata": {},
   "outputs": [
    {
     "name": "stdout",
     "output_type": "stream",
     "text": [
      "Mean: 5.884615384615385\n",
      "Average time taken for computing the mean using for loop: 3.309731483459473e-06 seconds \n"
     ]
    }
   ],
   "source": [
    "t1 = time()\n",
    "for _ in range(100000):\n",
    "    sum = 0\n",
    "    for num in array:\n",
    "        sum+=num\n",
    "    mean = sum/len(array)\n",
    "t2 = time()\n",
    "\n",
    "print(\"Mean: {}\\nAverage time taken for computing the mean using for loop: {} seconds \".format(mean,(t2-t1)/100000))"
   ]
  },
  {
   "cell_type": "markdown",
   "metadata": {},
   "source": [
    "### Using NumPy with `ndarray.mean()` method"
   ]
  },
  {
   "cell_type": "code",
   "execution_count": 45,
   "metadata": {},
   "outputs": [
    {
     "name": "stdout",
     "output_type": "stream",
     "text": [
      "Mean:  5.884615384615385\n"
     ]
    }
   ],
   "source": [
    "import numpy as np\n",
    "np_array = np.array(array)\n",
    "print(\"Mean: \",np_array.mean())"
   ]
  },
  {
   "cell_type": "code",
   "execution_count": 46,
   "metadata": {},
   "outputs": [
    {
     "name": "stdout",
     "output_type": "stream",
     "text": [
      "Mean: 5.884615384615385\n",
      "Average time taken for computing the mean using NumPy: 1.1149728298187255e-05 seconds \n"
     ]
    }
   ],
   "source": [
    "t1 = time()\n",
    "np_array = np.array(array)\n",
    "for _ in range(100000):\n",
    "    mean = np_array.mean()\n",
    "t2 = time()\n",
    "\n",
    "print(\"Mean: {}\\nAverage time taken for computing the mean using NumPy: {} seconds \".format(mean,(t2-t1)/100000))"
   ]
  },
  {
   "cell_type": "markdown",
   "metadata": {},
   "source": [
    "### So, the `NumPy` method does not offer significant boost in performance. But what happens when the array is large?"
   ]
  },
  {
   "cell_type": "code",
   "execution_count": 47,
   "metadata": {},
   "outputs": [],
   "source": [
    "from random import randint\n",
    "lst = []\n",
    "for _ in range(1000000):\n",
    "    lst.append(randint(1,100))"
   ]
  },
  {
   "cell_type": "code",
   "execution_count": 48,
   "metadata": {},
   "outputs": [
    {
     "data": {
      "text/plain": [
       "1000000"
      ]
     },
     "execution_count": 48,
     "metadata": {},
     "output_type": "execute_result"
    }
   ],
   "source": [
    "len(lst)"
   ]
  },
  {
   "cell_type": "code",
   "execution_count": 49,
   "metadata": {},
   "outputs": [
    {
     "name": "stdout",
     "output_type": "stream",
     "text": [
      "Mean: 50.465672\n",
      "Average time taken for computing the mean using for loop: 0.18960354328155518 seconds \n"
     ]
    }
   ],
   "source": [
    "t1 = time()\n",
    "for _ in range(10):\n",
    "    sum = 0\n",
    "    for num in lst:\n",
    "        sum+=num\n",
    "    mean = sum/len(lst)\n",
    "t2 = time()\n",
    "\n",
    "print(\"Mean: {}\\nAverage time taken for computing the mean using for loop: {} seconds \".format(mean,(t2-t1)/10))"
   ]
  },
  {
   "cell_type": "code",
   "execution_count": 50,
   "metadata": {},
   "outputs": [
    {
     "name": "stdout",
     "output_type": "stream",
     "text": [
      "Mean: 50.465672\n",
      "Average time taken for computing the mean using NumPy: 0.014644837379455567 seconds \n"
     ]
    }
   ],
   "source": [
    "t1 = time()\n",
    "np_lst = np.array(lst)\n",
    "for _ in range(10):\n",
    "    mean = np_lst.mean()\n",
    "t2 = time()\n",
    "\n",
    "print(\"Mean: {}\\nAverage time taken for computing the mean using NumPy: {} seconds \".format(mean,(t2-t1)/10))"
   ]
  },
  {
   "cell_type": "markdown",
   "metadata": {},
   "source": [
    "### Variance and standard deviation\n",
    "* `ndarray.var()`\n",
    "* `ndarray.std()`"
   ]
  },
  {
   "cell_type": "code",
   "execution_count": 51,
   "metadata": {},
   "outputs": [
    {
     "name": "stdout",
     "output_type": "stream",
     "text": [
      "Variance: 834.1976155884162\n",
      "Average time taken for computing the variance using NumPy: 0.034854984283447264 seconds \n"
     ]
    }
   ],
   "source": [
    "t1 = time()\n",
    "np_lst = np.array(lst)\n",
    "for _ in range(10):\n",
    "    v = np_lst.var()\n",
    "t2 = time()\n",
    "\n",
    "print(\"Variance: {}\\nAverage time taken for computing the variance using NumPy: {} seconds \".format(v,(t2-t1)/10))"
   ]
  },
  {
   "cell_type": "code",
   "execution_count": 52,
   "metadata": {},
   "outputs": [
    {
     "name": "stdout",
     "output_type": "stream",
     "text": [
      "Std. dev: 28.88247938782985\n",
      "Average time taken for computing the standard deviation using NumPy: 0.04588747024536133 seconds \n"
     ]
    }
   ],
   "source": [
    "t1 = time()\n",
    "np_lst = np.array(lst)\n",
    "for _ in range(10):\n",
    "    s = np_lst.std()\n",
    "t2 = time()\n",
    "\n",
    "print(\"Std. dev: {}\\nAverage time taken for computing the standard deviation using NumPy: {} seconds \".format(s,(t2-t1)/10))"
   ]
  },
  {
   "cell_type": "markdown",
   "metadata": {},
   "source": [
    "## What if there are `NaN` values in the array\n",
    "* `nanmean()`\n",
    "* `nanmedian()`\n",
    "* `nanstd()`\n",
    "* `nanvar()`"
   ]
  },
  {
   "cell_type": "code",
   "execution_count": 61,
   "metadata": {},
   "outputs": [],
   "source": [
    "array = 20*np.random.random(10)"
   ]
  },
  {
   "cell_type": "code",
   "execution_count": 62,
   "metadata": {},
   "outputs": [
    {
     "name": "stdout",
     "output_type": "stream",
     "text": [
      "[18.12425815  2.38705063  7.96675581  4.69638935  8.70467508  7.83295758\n",
      "  2.44450172  5.24213916  4.43874888 15.89713518]\n"
     ]
    }
   ],
   "source": [
    "print(array)"
   ]
  },
  {
   "cell_type": "code",
   "execution_count": 63,
   "metadata": {},
   "outputs": [],
   "source": [
    "array[2]=np.nan\n",
    "array[6]=np.nan"
   ]
  },
  {
   "cell_type": "code",
   "execution_count": 64,
   "metadata": {},
   "outputs": [
    {
     "name": "stdout",
     "output_type": "stream",
     "text": [
      "[18.12425815  2.38705063         nan  4.69638935  8.70467508  7.83295758\n",
      "         nan  5.24213916  4.43874888 15.89713518]\n"
     ]
    }
   ],
   "source": [
    "print(array)"
   ]
  },
  {
   "cell_type": "code",
   "execution_count": 66,
   "metadata": {},
   "outputs": [
    {
     "name": "stdout",
     "output_type": "stream",
     "text": [
      "Mean: nan\n",
      "Var: nan\n"
     ]
    }
   ],
   "source": [
    "print(\"Mean:\",array.mean())\n",
    "print(\"Var:\",array.var())"
   ]
  },
  {
   "cell_type": "markdown",
   "metadata": {},
   "source": [
    "### Using special functions which ignore `NaN`. Notice they are methods of the base Numpy (`np`) class not of an individual array"
   ]
  },
  {
   "cell_type": "code",
   "execution_count": 69,
   "metadata": {},
   "outputs": [
    {
     "name": "stdout",
     "output_type": "stream",
     "text": [
      "Mean ignoring NaN: 8.415419252372196\n",
      "Var ignoring NaN: 28.339572737681575\n",
      "Std. dev ignoring NaN: 5.323492531945694\n",
      "Median ignoring NaN: 6.537548372374532\n"
     ]
    }
   ],
   "source": [
    "print(\"Mean ignoring NaN:\",np.nanmean(array))\n",
    "print(\"Var ignoring NaN:\",np.nanvar(array))\n",
    "print(\"Std. dev ignoring NaN:\",np.nanstd(array))\n",
    "print(\"Median ignoring NaN:\",np.nanmedian(array))"
   ]
  },
  {
   "cell_type": "markdown",
   "metadata": {},
   "source": [
    "## Other descriptive statistics measures\n",
    "* Min and max\n",
    "* Range\n",
    "* Quantile\n",
    "* Percentile\n",
    "\n",
    "<img src=\"images/percentile.PNG\" width=500 height=400></img>\n",
    "\n",
    "<img src=\"images/quantiles.png\" width=400 height=300></img>"
   ]
  },
  {
   "cell_type": "code",
   "execution_count": 70,
   "metadata": {},
   "outputs": [
    {
     "name": "stdout",
     "output_type": "stream",
     "text": [
      "[ 9.09854842  9.84177347  4.75767837 16.68784841  4.36347513 17.65766902\n",
      "  6.58960485 12.95874598 16.94898066 11.32537736]\n"
     ]
    }
   ],
   "source": [
    "array = 20*np.random.random(10)\n",
    "print(array)"
   ]
  },
  {
   "cell_type": "code",
   "execution_count": 71,
   "metadata": {},
   "outputs": [
    {
     "name": "stdout",
     "output_type": "stream",
     "text": [
      "Max of the array: 17.657669024849667\n",
      "Max of the array: 17.657669024849667\n"
     ]
    }
   ],
   "source": [
    "# Using np.amax()\n",
    "print(\"Max of the array:\",np.amax(array))\n",
    "# Using array.max()\n",
    "print(\"Max of the array:\",array.max())"
   ]
  },
  {
   "cell_type": "code",
   "execution_count": 73,
   "metadata": {},
   "outputs": [
    {
     "name": "stdout",
     "output_type": "stream",
     "text": [
      "Min of the array: 4.36347513170992\n",
      "Min of the array: 4.36347513170992\n"
     ]
    }
   ],
   "source": [
    "# Using np.amax()\n",
    "print(\"Min of the array:\",np.amin(array))\n",
    "# Using array.max()\n",
    "print(\"Min of the array:\",array.min())"
   ]
  },
  {
   "cell_type": "code",
   "execution_count": 76,
   "metadata": {},
   "outputs": [
    {
     "name": "stdout",
     "output_type": "stream",
     "text": [
      "Range of the array:  13.294193893139749\n",
      "Range of the array:  13.294193893139749\n"
     ]
    }
   ],
   "source": [
    "# Compute range by using max() and min() functions\n",
    "print(\"Range of the array: \", array.max()-array.min())\n",
    "# Compute range by using ptp() function\n",
    "print(\"Range of the array: \", np.ptp(array))"
   ]
  },
  {
   "cell_type": "code",
   "execution_count": 77,
   "metadata": {},
   "outputs": [
    {
     "name": "stdout",
     "output_type": "stream",
     "text": [
      "20th percentile of the array:  6.223219550082087\n"
     ]
    }
   ],
   "source": [
    "# Percentile\n",
    "print(\"20th percentile of the array: \", np.percentile(array,20))"
   ]
  },
  {
   "cell_type": "code",
   "execution_count": 81,
   "metadata": {},
   "outputs": [
    {
     "name": "stdout",
     "output_type": "stream",
     "text": [
      "0.5-th quantile of the array:  10.583575418149183\n"
     ]
    }
   ],
   "source": [
    "# Quantile\n",
    "print(\"0.5-th quantile of the array: \", np.quantile(array,0.5))"
   ]
  }
 ],
 "metadata": {
  "kernelspec": {
   "display_name": "Python 3",
   "language": "python",
   "name": "python3"
  },
  "language_info": {
   "codemirror_mode": {
    "name": "ipython",
    "version": 3
   },
   "file_extension": ".py",
   "mimetype": "text/x-python",
   "name": "python",
   "nbconvert_exporter": "python",
   "pygments_lexer": "ipython3",
   "version": "3.6.2"
  }
 },
 "nbformat": 4,
 "nbformat_minor": 4
}
